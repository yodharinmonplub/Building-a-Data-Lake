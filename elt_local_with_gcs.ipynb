{
 "cells": [
  {
   "cell_type": "markdown",
   "id": "7d92a656-8c50-4a3a-a88c-0f1798d8499f",
   "metadata": {},
   "source": [
    "# ELT using PySpark on Local with GCS"
   ]
  },
  {
   "cell_type": "code",
   "execution_count": 1,
   "id": "143ac16b-0c1a-47fe-996a-a14aae784a3e",
   "metadata": {},
   "outputs": [],
   "source": [
    "import os\n",
    "\n",
    "from pyspark import SparkConf\n",
    "from pyspark.sql import SparkSession"
   ]
  },
  {
   "cell_type": "code",
   "execution_count": 2,
   "id": "ec8d4551-f1d6-4eb4-94fb-17934aff455f",
   "metadata": {},
   "outputs": [],
   "source": [
    "SERVICE_ACCOUNT_EMAIL = \"swu-spark-with-gcs@dataengineercafe.iam.gserviceaccount.com\"\n",
    "KEYFILE_PATH = \"/home/jovyan/work/dataengineercafe-swu-spark-with-gcs-b5ad45e44dd5.json\""
   ]
  },
  {
   "cell_type": "code",
   "execution_count": 3,
   "id": "e4cf1572-64a7-4cf6-97b9-2af2ca782c16",
   "metadata": {},
   "outputs": [],
   "source": [
    "os.environ['GOOGLE_APPLICATION_CREDENTIALS'] = KEYFILE_PATH"
   ]
  },
  {
   "cell_type": "code",
   "execution_count": 4,
   "id": "3fac3cea-a64d-4ef2-a11c-b0ec4da7a099",
   "metadata": {},
   "outputs": [
    {
     "data": {
      "text/plain": [
       "<pyspark.conf.SparkConf at 0x7f43495125d0>"
      ]
     },
     "execution_count": 4,
     "metadata": {},
     "output_type": "execute_result"
    }
   ],
   "source": [
    "conf = SparkConf()\n",
    "conf.set(\"spark.jars\", \"https://storage.googleapis.com/hadoop-lib/gcs/gcs-connector-hadoop3-latest.jar\")"
   ]
  },
  {
   "cell_type": "code",
   "execution_count": 5,
   "id": "a766af26-0ca5-4910-b547-7035e7cddb69",
   "metadata": {},
   "outputs": [
    {
     "data": {
      "text/plain": [
       "<pyspark.conf.SparkConf at 0x7f43495125d0>"
      ]
     },
     "execution_count": 5,
     "metadata": {},
     "output_type": "execute_result"
    }
   ],
   "source": [
    "conf.set(\"spark.sql.repl.eagerEval.enabled\", True)"
   ]
  },
  {
   "cell_type": "code",
   "execution_count": 6,
   "id": "3eb72414-6c6d-4003-af2a-d4aa0f9eb776",
   "metadata": {},
   "outputs": [],
   "source": [
    "spark = SparkSession.builder.config(conf=conf).getOrCreate()"
   ]
  },
  {
   "cell_type": "code",
   "execution_count": 7,
   "id": "dcab5c7b-52fd-4ce8-ad01-37d1f2d1fb80",
   "metadata": {},
   "outputs": [],
   "source": [
    "df = spark.read.option(\"header\", True).csv(\"gs://example-4567123916/products/products.csv\")"
   ]
  },
  {
   "cell_type": "code",
   "execution_count": 8,
   "id": "112d7f75-c6de-49a7-9c3e-364191d50491",
   "metadata": {},
   "outputs": [
    {
     "name": "stdout",
     "output_type": "stream",
     "text": [
      "+--------------------+-------------------+-----+---------+\n",
      "|          product_id|               name|price|inventory|\n",
      "+--------------------+-------------------+-----+---------+\n",
      "|4cda01b9-62e2-46c...|             Pothos| 30.5|       40|\n",
      "|689fb64e-a4a2-45c...|             Bamboo|15.25|       56|\n",
      "|55c6a062-5f4a-4a8...|       Philodendron| 45.0|       51|\n",
      "|be49171b-9f72-4fc...|           Monstera|50.75|       77|\n",
      "|fb0e8be7-5ac4-4a7...|   String of pearls| 80.5|       58|\n",
      "|b66a7143-c18a-43b...|           ZZ Plant| 25.0|       89|\n",
      "|e8b6528e-a830-4d0...|        Snake Plant| 25.5|       48|\n",
      "|c7050c3b-a898-424...|             Orchid|50.75|       58|\n",
      "|bb19d194-e1bd-435...|    Birds Nest Fern| 15.5|       49|\n",
      "|b86ae24b-6f59-47e...|  Calathea Makoyana|40.25|       94|\n",
      "|e5ee99b6-519f-421...|         Peace Lily| 60.5|       99|\n",
      "|05df0866-1a66-41d...|   Bird of Paradise| 65.0|       97|\n",
      "|e706ab70-b396-4d3...|    Fiddle Leaf Fig| 85.5|       82|\n",
      "|843b6553-dc6a-4fc...|              Ficus|20.25|       44|\n",
      "|5b50b820-1d0a-423...|Pilea Peperomioides| 20.5|       85|\n",
      "|58b575f2-2192-4a5...|Angel Wings Begonia| 95.0|       65|\n",
      "|a88a23ef-679c-474...|         Jade Plant| 15.0|       94|\n",
      "|74aeb414-e3dd-4e8...|         Arrow Head|30.95|      100|\n",
      "|5ceddd13-cf00-481...|       Majesty Palm| 70.0|       74|\n",
      "|64d39754-03e4-4fa...|       Spider Plant| 15.0|       67|\n",
      "+--------------------+-------------------+-----+---------+\n",
      "only showing top 20 rows\n",
      "\n"
     ]
    }
   ],
   "source": [
    "df.show()"
   ]
  }
 ],
 "metadata": {
  "kernelspec": {
   "display_name": "Python 3 (ipykernel)",
   "language": "python",
   "name": "python3"
  },
  "language_info": {
   "codemirror_mode": {
    "name": "ipython",
    "version": 3
   },
   "file_extension": ".py",
   "mimetype": "text/x-python",
   "name": "python",
   "nbconvert_exporter": "python",
   "pygments_lexer": "ipython3",
   "version": "3.11.6"
  }
 },
 "nbformat": 4,
 "nbformat_minor": 5
}
